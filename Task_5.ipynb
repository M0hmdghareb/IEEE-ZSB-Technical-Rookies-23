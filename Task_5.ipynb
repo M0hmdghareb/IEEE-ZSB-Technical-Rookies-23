{
 "cells": [
  {
   "cell_type": "code",
   "execution_count": 1,
   "metadata": {},
   "outputs": [
    {
     "name": "stdout",
     "output_type": "stream",
     "text": [
      "hi\n"
     ]
    }
   ],
   "source": [
    "print(\"hi\")"
   ]
  },
  {
   "cell_type": "markdown",
   "metadata": {},
   "source": [
    "1- Write a program that asks the user to enter a set of numbers, builds a maximum heap out of them and prints the numbers after they have been redistributed "
   ]
  },
  {
   "cell_type": "code",
   "execution_count": 2,
   "metadata": {},
   "outputs": [
    {
     "name": "stdout",
     "output_type": "stream",
     "text": [
      "99 95 77 92 55 61 74 86 87 51 3 57 24 13 28 81 35 15 48 23 7 \n"
     ]
    }
   ],
   "source": [
    "def heapify(arr, N, i):\n",
    "    largest = i    \n",
    "    l = 2 * i + 1  \n",
    "    r = 2 * i + 2  \n",
    "\n",
    "    if l < N and arr[l] > arr[largest]:\n",
    "        largest = l\n",
    "    if r < N and arr[r] > arr[largest]:\n",
    "        largest = r\n",
    "    if largest != i:\n",
    "        arr[i], arr[largest] = arr[largest], arr[i]\n",
    "        heapify(arr, N, largest)\n",
    " \n",
    "def buildHeap(arr, N):\n",
    "    startIdx = N // 2 - 1\n",
    "    for i in range(startIdx, -1, -1):\n",
    "        heapify(arr, N, i)\n",
    " \n",
    "def printHeap(arr, N):\n",
    "    for i in range(N):\n",
    "        print(arr[i], end=\" \")\n",
    "    print()\n",
    "\n",
    "# Driver Code\n",
    "l = list(set(list(map(int ,input().split())))) \n",
    "\n",
    "buildHeap(l,len(l))\n",
    "printHeap(l,len(l))\n"
   ]
  },
  {
   "cell_type": "markdown",
   "metadata": {},
   "source": [
    "2- Given a string s containing just the characters '(', ')', '{', '}', '[' and ']', determine if the input string is valid."
   ]
  },
  {
   "cell_type": "code",
   "execution_count": 10,
   "metadata": {},
   "outputs": [
    {
     "data": {
      "text/plain": [
       "False"
      ]
     },
     "execution_count": 10,
     "metadata": {},
     "output_type": "execute_result"
    }
   ],
   "source": [
    "open_list = [\"[\",\"{\",\"(\"]\n",
    "close_list = [\"]\",\"}\",\")\"]\n",
    "def Balenced_parentheses(my_exp) :\n",
    "    stack = []\n",
    "    for i in my_exp :\n",
    "        if i in open_list :\n",
    "            stack.append(i)\n",
    "        elif i in close_list :\n",
    "            pos = close_list.index(i) \n",
    "            if (len(stack) > 0) and ( open_list[pos] == stack[len(stack)-1] ):\n",
    "                stack.pop()\n",
    "            else :\n",
    "                return False\n",
    "    if len(stack) ==0 :\n",
    "        return True\n",
    "    else :\n",
    "        return False\n",
    "\n",
    "# drive code \n",
    "st = input()\n",
    "Balenced_parentheses(st)                                "
   ]
  },
  {
   "cell_type": "markdown",
   "metadata": {},
   "source": [
    "3- 7beshi and Zarzor are playing a game. The rules are simple 7beshi will give Zarzor a positive integer, Zarzor is going to add the square of its digits, then take the resulting number and repeat the process till he gets to 1. Only then Zarzor will win the game. Otherwise, he will enter an infinite loop and thus die trying. Write a program to check if a number will ever get to 1, if not warn Zarzor beforehand. Save Zarzor's life. He's a good guy 😢\n"
   ]
  },
  {
   "cell_type": "code",
   "execution_count": 19,
   "metadata": {},
   "outputs": [
    {
     "name": "stdout",
     "output_type": "stream",
     "text": [
      "i'm sorry for u Zoz \n"
     ]
    }
   ],
   "source": [
    "\"\"\"\n",
    "   def isHappy(n):\n",
    "        s = set()\n",
    "        while n != 1:\n",
    "            if n in s:\n",
    "                return 0\n",
    "            s.add(n)\n",
    "            n = sum([int(i) ** 2 for i in str(n)])\n",
    "        return 1\n",
    "\"\"\"\n",
    "#Using the fact that all unhappies go through 4 (and that 2 and 3 are unhappy):\n",
    "def isHappy(n):\n",
    "        while n > 4:\n",
    "            n = sum(int(d)**2 for d in str(n))\n",
    "        return n == 1\n",
    "\n",
    "n = int(input())\n",
    "if isHappy(n) == 1 :\n",
    "    print(\"Zoz will win\")\n",
    "else :\n",
    "    print(\"i'm sorry for u Zoz \")    \n"
   ]
  },
  {
   "cell_type": "code",
   "execution_count": 16,
   "metadata": {},
   "outputs": [
    {
     "name": "stdout",
     "output_type": "stream",
     "text": [
      "9\n"
     ]
    }
   ],
   "source": [
    "n = str(input())\n",
    "print(int(n[-1])**2)\n"
   ]
  },
  {
   "cell_type": "markdown",
   "metadata": {},
   "source": [
    "4- print all prime factors of a given integer"
   ]
  },
  {
   "cell_type": "code",
   "execution_count": 5,
   "metadata": {},
   "outputs": [
    {
     "name": "stdout",
     "output_type": "stream",
     "text": [
      "3 3 5 7 "
     ]
    }
   ],
   "source": [
    "def primeFactors(n): \n",
    "    c = 2\n",
    "    while(n > 1):\n",
    " \n",
    "        if(n % c == 0):\n",
    "            print(c, end=\" \")\n",
    "            n = n / c\n",
    "        else:\n",
    "            c = c + 1\n",
    "         \n",
    "# Drive code \n",
    "n = int(input())\n",
    "primeFactors(n)"
   ]
  }
 ],
 "metadata": {
  "kernelspec": {
   "display_name": "Python 3.9.12 ('base')",
   "language": "python",
   "name": "python3"
  },
  "language_info": {
   "codemirror_mode": {
    "name": "ipython",
    "version": 3
   },
   "file_extension": ".py",
   "mimetype": "text/x-python",
   "name": "python",
   "nbconvert_exporter": "python",
   "pygments_lexer": "ipython3",
   "version": "3.9.12"
  },
  "orig_nbformat": 4,
  "vscode": {
   "interpreter": {
    "hash": "b266febccdbffe94f8259b69fdbf83b7a5dac84892382b2e19a6c7f9decedf65"
   }
  }
 },
 "nbformat": 4,
 "nbformat_minor": 2
}
