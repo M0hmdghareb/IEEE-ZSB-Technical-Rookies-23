{
 "cells": [
  {
   "cell_type": "markdown",
   "metadata": {},
   "source": [
    "1- Write a program to return the k most frequent elements of an array of n integers. You may return the answer in any order.\n"
   ]
  },
  {
   "cell_type": "code",
   "execution_count": 60,
   "metadata": {},
   "outputs": [
    {
     "name": "stdout",
     "output_type": "stream",
     "text": [
      "1\n",
      "2\n"
     ]
    }
   ],
   "source": [
    "import heapq\n",
    "def print_N_mostFrequentNumber(arr, N, K):\n",
    "    mp = dict()\n",
    "    for i in range(0, N):\n",
    "        if arr[i] not in mp:\n",
    "            mp[arr[i]] = 0\n",
    "        else:\n",
    "            mp[arr[i]] += 1\n",
    "\n",
    "    heap = [(value, key) for key,\n",
    "            value in mp.items()]\n",
    " \n",
    "    largest = heapq.nlargest(K, heap)\n",
    " \n",
    "    for i in range(K):\n",
    "        print(largest[i][1])\n",
    "\n",
    "inp = list(map(int, input().split()))\n",
    "a = list(map(int, input().split()))\n",
    "print_N_mostFrequentNumber(a,len(a),inp[-1])"
   ]
  },
  {
   "cell_type": "markdown",
   "metadata": {},
   "source": [
    "2- Write a program that asks the user for two strings, s1 and s2, and tests whether s2 contains a permutation of s1. returns true if it satisfies the condition, returns false otherwise"
   ]
  },
  {
   "cell_type": "code",
   "execution_count": 64,
   "metadata": {},
   "outputs": [
    {
     "name": "stdout",
     "output_type": "stream",
     "text": [
      "yes \n"
     ]
    }
   ],
   "source": [
    "s1= input()\n",
    "s2= input()\n",
    "p=s1[::-1]\n",
    "if p in s2 :\n",
    "    print(\"yes \")\n",
    "else :\n",
    "    print(\"no\")    "
   ]
  },
  {
   "cell_type": "markdown",
   "metadata": {},
   "source": [
    " 3- Find the minimum distance between 2 similar numbers in a list."
   ]
  },
  {
   "cell_type": "code",
   "execution_count": 77,
   "metadata": {},
   "outputs": [
    {
     "name": "stdout",
     "output_type": "stream",
     "text": [
      "3\n"
     ]
    }
   ],
   "source": [
    "def minimumDistance(a):\n",
    "\n",
    "    hmap = dict()\n",
    "    minDistance = 10**9\n",
    "    previousIndex = 0\n",
    "    currentIndex = 0\n",
    " \n",
    "    for i in range(len(a)):\n",
    " \n",
    "        if a[i] in hmap:\n",
    "            currentIndex = i\n",
    "            previousIndex = hmap[a[i]]\n",
    "            minDistance = min((currentIndex -\n",
    "                        previousIndex), minDistance)\n",
    "        \n",
    "        hmap[a[i]] = i\n",
    "\n",
    "    if minDistance == 10**9:\n",
    "        return -1\n",
    "    return minDistance\n",
    "\n",
    "\n",
    "lst=list(map(int, input().split()))\n",
    "print(minimumDistance(lst))"
   ]
  },
  {
   "cell_type": "markdown",
   "metadata": {},
   "source": [
    "4- Try to think of an unimaginably large number, for instance, Googolplex. as you might notice no numerical data type can hold such a colossal number. the only way is by storing it as an array of digits. write a program to increment such a number by 1"
   ]
  },
  {
   "cell_type": "code",
   "execution_count": 82,
   "metadata": {},
   "outputs": [
    {
     "name": "stdout",
     "output_type": "stream",
     "text": [
      "[1, 2, 3, 5]\n"
     ]
    }
   ],
   "source": [
    "def addone(lst):\n",
    "    l_index=len(lst)-1\n",
    "    while(l_index >=0 and lst[l_index]== 9 ):\n",
    "        lst[l_index]=0\n",
    "        l_index-= 1\n",
    "    if l_index <0 :\n",
    "        lst.insert(0,1)\n",
    "    else :\n",
    "        lst[l_index]+=1        \n",
    "\n",
    "n=list(map(int ,input().split()))\n",
    "addone(n)\n",
    "print(n)"
   ]
  },
  {
   "cell_type": "markdown",
   "metadata": {},
   "source": [
    "5- Rotate a 2D-Matrix by 90 degs"
   ]
  },
  {
   "cell_type": "code",
   "execution_count": 5,
   "metadata": {},
   "outputs": [
    {
     "name": "stdout",
     "output_type": "stream",
     "text": [
      "7 4 1 \n",
      "8 5 2 \n",
      "9 6 3 \n"
     ]
    }
   ],
   "source": [
    "n = int(input()) \n",
    "def rotate90Clockwise(arr) :\n",
    "    global n\n",
    "    for j in range(n) :\n",
    "        for i in range(n - 1, -1, -1) :\n",
    "            print(arr[i][j], end = \" \")\n",
    "        print()\n",
    "\n",
    "mat=[[int(input()) for x in range(n) ]for y in range(n)]\n",
    "rotate90Clockwise(mat)"
   ]
  },
  {
   "cell_type": "markdown",
   "metadata": {},
   "source": [
    "6-You are given a number that contains 4 digits with at least two distinct digits. \n",
    "Your program should perform the following routine on the number: Arrange the digits in descending order and in ascending order (adding zeros to fit it to a 4-digit number), and subtract the smaller number from the bigger number. Then repeat the previous step. Performing this routine will always cause you to reach a fixed number: 6174. Your program should return the number of times this routine must be performed until 6174 is reached."
   ]
  },
  {
   "cell_type": "code",
   "execution_count": null,
   "metadata": {},
   "outputs": [],
   "source": [
    "def kaprekarRec(n, prev):\n",
    "\n",
    "\tif (n == 0):\n",
    "\t\treturn 0;\n",
    "\n",
    "\t# Store current n as previous\n",
    "\t# number\n",
    "\tprev = n;\n",
    "\n",
    "\t# Get four digits of given number\n",
    "\tdigits = [0] * 4;\n",
    "\tfor i in range(4):\n",
    "\t\tdigits[i] = n % 10;\n",
    "\t\tn = int(n / 10);\n",
    "\n",
    "\t# Sort all four digits in ascending order\n",
    "\t# And giet in the form of number \"asc\"\n",
    "\tdigits.sort();\n",
    "\tasc = 0;\n",
    "\tfor i in range(4):\n",
    "\t\tasc = asc * 10 + digits[i];\n",
    "\n",
    "\t# Get all four digits in descending order\n",
    "\t# in the form of number \"desc\"\n",
    "\tdigits.sort();\n",
    "\tdesc = 0;\n",
    "\tfor i in range(3, -1, -1):\n",
    "\t\tdesc = desc * 10 + digits[i];\n",
    "\n",
    "\t# Get the difference of two numbers\n",
    "\tdiff = abs(asc - desc);\n",
    "\n",
    "\t# If difference is same as previous,\n",
    "\t# we have reached kaprekar's constant\n",
    "\tif (diff == prev):\n",
    "\t\treturn diff;\n",
    "\n",
    "\t# Else recur\n",
    "\treturn kaprekarRec(diff, prev);\n",
    "\n",
    "# A wrapper over kaprekarRec()\n",
    "def kaprekar(n):\n",
    "\n",
    "\trev = 0;\n",
    "\treturn kaprekarRec(n, rev);\n",
    "\n",
    "\n",
    "print(kaprekar(int(input())))\n",
    "\n",
    "\n"
   ]
  },
  {
   "cell_type": "markdown",
   "metadata": {},
   "source": [
    "7- group the anagrams together of an array of strings. You can return the answer in any order.\n"
   ]
  },
  {
   "cell_type": "code",
   "execution_count": 17,
   "metadata": {},
   "outputs": [
    {
     "name": "stdout",
     "output_type": "stream",
     "text": [
      "[['eat', 'tea', 'ate'], ['tan', 'nat'], ['bat']]\n"
     ]
    }
   ],
   "source": [
    "def Anagrams( li ):\n",
    "    dictionary = {}\n",
    "    for word in li:\n",
    "        sortedWord = ''.join(sorted(word))\n",
    "        \n",
    "        if sortedWord not in dictionary:\n",
    "            dictionary[sortedWord] = [word]\n",
    "        \n",
    "        else:\n",
    "            dictionary[sortedWord] += [word]\n",
    "    return [dictionary[i] for i in dictionary]\n",
    "\n",
    "n=int(input())\n",
    "li=list(input().split())\n",
    "# Call to function to Solve and group Anagrams\n",
    "print(Anagrams(li))\n"
   ]
  },
  {
   "cell_type": "code",
   "execution_count": null,
   "metadata": {},
   "outputs": [],
   "source": []
  }
 ],
 "metadata": {
  "kernelspec": {
   "display_name": "Python 3.10.5 64-bit",
   "language": "python",
   "name": "python3"
  },
  "language_info": {
   "codemirror_mode": {
    "name": "ipython",
    "version": 3
   },
   "file_extension": ".py",
   "mimetype": "text/x-python",
   "name": "python",
   "nbconvert_exporter": "python",
   "pygments_lexer": "ipython3",
   "version": "3.10.5"
  },
  "orig_nbformat": 4,
  "vscode": {
   "interpreter": {
    "hash": "f7cb22cba2fc3f9cef1d77ff9f28dbfe3d5dcd58b522c3467d939d18639aeaa6"
   }
  }
 },
 "nbformat": 4,
 "nbformat_minor": 2
}
