{
 "cells": [
  {
   "cell_type": "markdown",
   "metadata": {},
   "source": [
    "1- calculates the area and the perimeter of a rectangle."
   ]
  },
  {
   "cell_type": "code",
   "execution_count": 12,
   "metadata": {},
   "outputs": [
    {
     "name": "stdout",
     "output_type": "stream",
     "text": [
      "30\n",
      "22\n"
     ]
    }
   ],
   "source": [
    "l = int(input(\"pleas enter the length  \"))\n",
    "w = int(input(\"pleas enter the  width  \"))\n",
    "print( l*w )\n",
    "print( 2*(l+w))"
   ]
  },
  {
   "cell_type": "markdown",
   "metadata": {},
   "source": [
    "2- Given a number N. Print the factorial of number N."
   ]
  },
  {
   "cell_type": "code",
   "execution_count": 10,
   "metadata": {},
   "outputs": [
    {
     "name": "stdout",
     "output_type": "stream",
     "text": [
      "factorial of  5  is  120\n"
     ]
    }
   ],
   "source": [
    "n =  int(input())\n",
    "f = 1\n",
    "for i in range(1 ,n+1):\n",
    "    f = f*i\n",
    "\n",
    "print(\"factorial of \", n, \" is \", f)   "
   ]
  },
  {
   "cell_type": "markdown",
   "metadata": {},
   "source": [
    "3- Write a program that contains three functions that compute the sum of the numbers in a list. The first function uses for loop, the second function uses while loop and the third function uses recursion"
   ]
  },
  {
   "cell_type": "code",
   "execution_count": 34,
   "metadata": {},
   "outputs": [
    {
     "name": "stdout",
     "output_type": "stream",
     "text": [
      "[5, 8, 4]\n",
      "17\n",
      "17\n",
      "17\n"
     ]
    }
   ],
   "source": [
    "# with for loop\n",
    "def  loopsum (arr):\n",
    "    s1 = 0\n",
    "    for i in arr:\n",
    "        s1 += i\n",
    "    return s1 \n",
    "\n",
    "\n",
    "# with while loop\n",
    "def whlloop(arr) :\n",
    "    s2 = 0  ; ele = 0\n",
    "    while ele < len(arr)  :\n",
    "        s2 += arr[ele] \n",
    "        ele += 1 \n",
    "    return s2 \n",
    "\n",
    "\n",
    "# with recurrsion\n",
    "def recsum(arr ,size) :\n",
    "    if size == 0 :\n",
    "        return 0 \n",
    "    else :\n",
    "        return arr[size - 1] + recsum(arr  , size -1 ) \n",
    "\n",
    "\n",
    "# Driver code\n",
    "\n",
    "n = int(input())\n",
    "l = [] \n",
    "for i in range(n):\n",
    "    g = int(input())\n",
    "    l.append(g) \n",
    "\n",
    "print(loopsum(l))        \n",
    "print(whlloop(l))\n",
    "print(recsum(l , len(l)))  \n",
    "     "
   ]
  },
  {
   "cell_type": "markdown",
   "metadata": {},
   "source": [
    "4- Write a program that asks the user for a number n and prints the sum of the numbers 1 to n inclusive."
   ]
  },
  {
   "cell_type": "code",
   "execution_count": 50,
   "metadata": {},
   "outputs": [
    {
     "name": "stdout",
     "output_type": "stream",
     "text": [
      "15\n"
     ]
    }
   ],
   "source": [
    "num=int(input(\"Enter the Number \" ))\n",
    "sum=0\n",
    "\n",
    "for i in range(1, num + 1):\n",
    "        sum = sum+ i\n",
    "print(sum) \n"
   ]
  },
  {
   "cell_type": "markdown",
   "metadata": {},
   "source": [
    "5- Modify the previous program such that only multiples of three or five are considered in the sum. "
   ]
  },
  {
   "cell_type": "code",
   "execution_count": 62,
   "metadata": {},
   "outputs": [
    {
     "name": "stdout",
     "output_type": "stream",
     "text": [
      "60\n"
     ]
    }
   ],
   "source": [
    "n=int(input())\n",
    "s = 0\n",
    "for i in range(1 , n+1 ) :\n",
    "    if  i % 3 == 0 or i % 5 == 0 :        \n",
    "        s += i\n",
    "\n",
    "print(s)\n"
   ]
  },
  {
   "cell_type": "markdown",
   "metadata": {},
   "source": [
    "6- Given two numbers A and B. Print the greatest common divisor between (A, B)."
   ]
  },
  {
   "cell_type": "code",
   "execution_count": 63,
   "metadata": {},
   "outputs": [
    {
     "name": "stdout",
     "output_type": "stream",
     "text": [
      "4\n"
     ]
    }
   ],
   "source": [
    "def gcd(a, b):\n",
    "    # Find minimum of a and b\n",
    "    result = min(a, b)\n",
    "  \n",
    "    while result:\n",
    "        if a % result == 0 and b % result == 0:\n",
    "            break\n",
    "        result -= 1\n",
    "  \n",
    "    # Return the gcd of a and b\n",
    "    return result\n",
    "\n",
    "print(gcd(8 , 12))    "
   ]
  },
  {
   "cell_type": "markdown",
   "metadata": {},
   "source": [
    "7- Given a number N . - Print N in a reversed order - If N is a palindrome number print \"YES\" otherwise, print \"NO.\n"
   ]
  },
  {
   "cell_type": "code",
   "execution_count": 69,
   "metadata": {},
   "outputs": [
    {
     "name": "stdout",
     "output_type": "stream",
     "text": [
      "061\n",
      "no\n"
     ]
    }
   ],
   "source": [
    "n1 = input()\n",
    "rn=str(n1)[::-1]\n",
    "print(rn)\n",
    "if rn == n1 :\n",
    "    print(\"yes\")\n",
    "else :\n",
    "    print(\"no\")\n"
   ]
  },
  {
   "cell_type": "code",
   "execution_count": null,
   "metadata": {},
   "outputs": [],
   "source": []
  },
  {
   "cell_type": "markdown",
   "metadata": {},
   "source": [
    "# LINKED LIST\n"
   ]
  },
  {
   "cell_type": "code",
   "execution_count": 1,
   "metadata": {},
   "outputs": [
    {
     "name": "stdout",
     "output_type": "stream",
     "text": [
      "1\n",
      "2\n",
      "3\n"
     ]
    }
   ],
   "source": [
    "# Node class\n",
    "class Node:\n",
    "\tdef __init__(self, data):\n",
    "\t\tself.data = data # Assign data\n",
    "\t\tself.next = None # Initialize\n",
    "\n",
    "class LinkedList:\n",
    "\tdef __init__(self):\n",
    "\t\tself.head = None\n",
    "\n",
    "class Node:\n",
    "\n",
    "\t# Function to initialise the node object\n",
    "\tdef __init__(self, data):\n",
    "\t\tself.data = data # Assign data\n",
    "\t\tself.next = None # Initialize next as null\n",
    "\n",
    "\n",
    "# Linked List class contains a Node object\n",
    "class LinkedList:\n",
    "\n",
    "\t# Function to initialize head\n",
    "\tdef __init__(self):\n",
    "\t\tself.head = None\n",
    "\n",
    "\n",
    "# Code execution starts here\n",
    "if __name__ == '__main__':\n",
    "\n",
    "\t# Start with the empty list\n",
    "\tllist = LinkedList()\n",
    "\n",
    "\tllist.head = Node(1)\n",
    "\tsecond = Node(2)\n",
    "\tthird = Node(3)\n",
    "\n",
    "\n",
    "\tllist.head.next = second # Link first node with second\n",
    "\n",
    "\tsecond.next = third # Link second node with the third node\n",
    "\n",
    "# Python program for traversal of a linked list\n",
    "class Node:\n",
    "\n",
    "\t# Function to initialise the node object\n",
    "\tdef __init__(self, data):\n",
    "\t\tself.data = data # Assign data\n",
    "\t\tself.next = None # Initialize next as null\n",
    "\n",
    "\n",
    "# Linked List class contains a Node object\n",
    "class LinkedList:\n",
    "\n",
    "\t# Function to initialize head\n",
    "\tdef __init__(self):\n",
    "\t\tself.head = None\n",
    "\n",
    "\t# This function prints contents of linked list\n",
    "\t# starting from head\n",
    "\tdef printList(self):\n",
    "\t\ttemp = self.head\n",
    "\t\twhile (temp):\n",
    "\t\t\tprint(temp.data)\n",
    "\t\t\ttemp = temp.next\n",
    "\n",
    "\n",
    "# Code execution starts here\n",
    "if __name__ == '__main__':\n",
    "\n",
    "\t# Start with the empty list\n",
    "\tllist = LinkedList()\n",
    "\n",
    "\tllist.head = Node(1)\n",
    "\tsecond = Node(2)\n",
    "\tthird = Node(3)\n",
    "\n",
    "\tllist.head.next = second # Link first node with second\n",
    "\tsecond.next = third # Link second node with the third node\n",
    "\n",
    "\tllist.printList()\n",
    "\n"
   ]
  },
  {
   "cell_type": "code",
   "execution_count": null,
   "metadata": {},
   "outputs": [],
   "source": []
  }
 ],
 "metadata": {
  "kernelspec": {
   "display_name": "Python 3.9.12 ('base')",
   "language": "python",
   "name": "python3"
  },
  "language_info": {
   "codemirror_mode": {
    "name": "ipython",
    "version": 3
   },
   "file_extension": ".py",
   "mimetype": "text/x-python",
   "name": "python",
   "nbconvert_exporter": "python",
   "pygments_lexer": "ipython3",
   "version": "3.9.12"
  },
  "orig_nbformat": 4,
  "vscode": {
   "interpreter": {
    "hash": "b266febccdbffe94f8259b69fdbf83b7a5dac84892382b2e19a6c7f9decedf65"
   }
  }
 },
 "nbformat": 4,
 "nbformat_minor": 2
}
