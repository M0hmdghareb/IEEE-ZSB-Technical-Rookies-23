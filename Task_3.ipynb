{
 "cells": [
  {
   "cell_type": "markdown",
   "metadata": {},
   "source": [
    "1- Given a square matrix, calculate the absolute difference between the sums of its diagonals."
   ]
  },
  {
   "cell_type": "code",
   "execution_count": 10,
   "metadata": {},
   "outputs": [
    {
     "name": "stdout",
     "output_type": "stream",
     "text": [
      "15\n"
     ]
    }
   ],
   "source": [
    "# one-liner logic to take input for rows and columns\n",
    "C=int(input())\n",
    "\n",
    "def mat_diff(arr , n):\n",
    "\n",
    "    d1=0 \n",
    "    d2=0\n",
    "    for i in range(0,n):\n",
    "        for j in range(0,n):\n",
    "            if i==j :\n",
    "                d1+= arr[i][j]\n",
    "            if i== n-j-1 :\n",
    "                d2 += arr[i][j]  \n",
    "\n",
    "    return abs(d1-d2)            \n",
    "\n",
    "mat = [[int(input()) for x in range (C)] for y in range(C)]\n",
    "\n",
    "print(mat_diff(mat, C))\n"
   ]
  },
  {
   "cell_type": "markdown",
   "metadata": {},
   "source": [
    "2- Given the names and grades for each student in a class of N students, store them in a nested list and print the name(s) of any student(s) having the second lowest grade."
   ]
  },
  {
   "cell_type": "code",
   "execution_count": 29,
   "metadata": {},
   "outputs": [
    {
     "name": "stdout",
     "output_type": "stream",
     "text": [
      "Berry\n",
      "Harry\n"
     ]
    }
   ],
   "source": [
    "total_list= []\n",
    "score_list= []\n",
    "name_list=  []\n",
    "for _ in range(int(input())):\n",
    "    name=input()\n",
    "    s=float(input())\n",
    "\n",
    "    score_list.append(s)\n",
    "    total_list.append([name,s])\n",
    "\n",
    "lowest=sorted(list(set(score_list)))\n",
    "for name ,score in total_list :\n",
    "    if score == lowest[1]:\n",
    "        name_list.append(name) \n",
    "name_list.sort()\n",
    "for i in name_list :\n",
    "    print(i)           "
   ]
  },
  {
   "cell_type": "markdown",
   "metadata": {},
   "source": [
    "3- You have n (n > 1) bottles of water, each bottle is described by remaining \n",
    "volume of water and capacity. You should determine if you can pour all \n",
    "remaining water into just 2 bottles. "
   ]
  },
  {
   "cell_type": "code",
   "execution_count": 62,
   "metadata": {},
   "outputs": [
    {
     "name": "stdout",
     "output_type": "stream",
     "text": [
      "no\n"
     ]
    }
   ],
   "source": [
    "capsity=[]\n",
    "remane=[]\n",
    "\n",
    "for _ in range (int(input())):\n",
    "    size= input().split()\n",
    "\n",
    "    remane.append(int(size[0]))\n",
    "    capsity.append(size[-1])\n",
    "\n",
    "capsity.sort()\n",
    "b = int(capsity[-1]) + int(capsity[-2])\n",
    "\n",
    "g=0\n",
    "for i in range(len(remane)):\n",
    "    g+=remane[i]\n",
    "    \n",
    "if  g <= b :\n",
    "    print(\"yes\")\n",
    "else :\n",
    "    print(\"no\")  \n"
   ]
  },
  {
   "cell_type": "markdown",
   "metadata": {},
   "source": [
    "4- You have a book. When you open the book, page 1 is always on the right side. When you flip page 1, you see pages 2 and 3. \n",
    "If the book is n pages long, and you want to turn to page p, what is the minimum number of pages to turn? You can start at the beginning or the end of the book."
   ]
  },
  {
   "cell_type": "code",
   "execution_count": 76,
   "metadata": {},
   "outputs": [
    {
     "name": "stdout",
     "output_type": "stream",
     "text": [
      "3\n"
     ]
    }
   ],
   "source": [
    "n = int(input())\n",
    "p = int(input())     \n",
    "if (n % 2 == 0):\n",
    "    n += 1\n",
    "print(int(min((p + 1) / 2, (n - p + 1) / 2) ))"
   ]
  },
  {
   "cell_type": "markdown",
   "metadata": {},
   "source": [
    "5- Consider you have a country with a number of cities, some of which have space stations. Cities are numbered consecutively and each has a road of 1 km length connecting it to the next city. It is not a circular route, so the first city doesn't connect with the last city. Determine the maximum distance from any city to its nearest space station."
   ]
  },
  {
   "cell_type": "code",
   "execution_count": 77,
   "metadata": {},
   "outputs": [
    {
     "name": "stdout",
     "output_type": "stream",
     "text": [
      "2\n"
     ]
    }
   ],
   "source": [
    "n,m = input().strip().split(' ')\n",
    "n,m = [int(n),int(m)]\n",
    "c = [int(c_temp) for c_temp in input().strip().split(' ')]\n",
    "c.sort()\n",
    "maxgap = max(a-b for a, b in zip(c[1:], c)) if len(c) > 1 else 0\n",
    "ans = max(maxgap//2, c[0], n-1-c[-1])\n",
    "print(ans)"
   ]
  },
  {
   "cell_type": "code",
   "execution_count": null,
   "metadata": {},
   "outputs": [],
   "source": []
  }
 ],
 "metadata": {
  "kernelspec": {
   "display_name": "Python 3.9.12 ('base')",
   "language": "python",
   "name": "python3"
  },
  "language_info": {
   "codemirror_mode": {
    "name": "ipython",
    "version": 3
   },
   "file_extension": ".py",
   "mimetype": "text/x-python",
   "name": "python",
   "nbconvert_exporter": "python",
   "pygments_lexer": "ipython3",
   "version": "3.9.12"
  },
  "orig_nbformat": 4,
  "vscode": {
   "interpreter": {
    "hash": "b266febccdbffe94f8259b69fdbf83b7a5dac84892382b2e19a6c7f9decedf65"
   }
  }
 },
 "nbformat": 4,
 "nbformat_minor": 2
}
