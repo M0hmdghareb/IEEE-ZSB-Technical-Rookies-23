{
 "cells": [
  {
   "attachments": {},
   "cell_type": "markdown",
   "metadata": {},
   "source": [
    "1-  Merge Two Sorted Lists"
   ]
  },
  {
   "cell_type": "code",
   "execution_count": null,
   "metadata": {},
   "outputs": [],
   "source": [
    "class Solution(object):\n",
    "    def mergeTwoLists(self, l1, l2):\n",
    "        head = new_list = ListNode(0)\n",
    "        \n",
    "        while(l1 and l2):\n",
    "            if (l1.val < l2.val):\n",
    "                new_list.next = l1\n",
    "                l1 = l1.next  \n",
    "            else:\n",
    "                new_list.next = l2\n",
    "                l2 = l2.next\n",
    "            new_list = new_list.next\n",
    "\n",
    "        new_list.next = l1 or l2\n",
    "        return head.next"
   ]
  },
  {
   "attachments": {},
   "cell_type": "markdown",
   "metadata": {},
   "source": [
    "2- Last Stone Weight"
   ]
  },
  {
   "cell_type": "code",
   "execution_count": null,
   "metadata": {},
   "outputs": [],
   "source": [
    "import heapq\n",
    "\n",
    "class Solution(object):\n",
    "    def lastStoneWeight(self, stones):\n",
    "        \"\"\"\n",
    "        :type stones: List[int]\n",
    "        :rtype: int\n",
    "        \"\"\"\n",
    "        max_heap = [-x for x in stones]\n",
    "        heapq.heapify(max_heap)\n",
    "        for i in xrange(len(stones)-1):\n",
    "            x, y = -heapq.heappop(max_heap), -heapq.heappop(max_heap)\n",
    "            heapq.heappush(max_heap, -abs(x-y))\n",
    "        return -max_heap[0]"
   ]
  },
  {
   "attachments": {},
   "cell_type": "markdown",
   "metadata": {},
   "source": [
    "3- K Closest Points to Origin"
   ]
  },
  {
   "cell_type": "code",
   "execution_count": null,
   "metadata": {},
   "outputs": [],
   "source": [
    "class Solution(object):\n",
    "    def kClosest(self, points, k):\n",
    "        \"\"\"\n",
    "        :type points: List[List[int]]\n",
    "        :type k: int\n",
    "        :rtype: List[List[int]]\n",
    "        \"\"\"\n",
    "        ans = []\n",
    "        min_d = 0\n",
    "        heapq.heapify(ans)\n",
    "        for pt in points:\n",
    "            d = pt[0]**2 + pt[1]**2\n",
    "            heapq.heappush(ans, (-d, pt)) #always push\n",
    "            if len(ans) > k: #pop when\n",
    "                heapq.heappop(ans)\n",
    "\n",
    "        return [y for x, y in ans]"
   ]
  },
  {
   "attachments": {},
   "cell_type": "markdown",
   "metadata": {},
   "source": [
    "4- challenges/nested-list/problem"
   ]
  },
  {
   "cell_type": "code",
   "execution_count": null,
   "metadata": {},
   "outputs": [],
   "source": [
    "def main():\n",
    "    number_students = int(input())\n",
    "    students = []\n",
    "    grades = set()\n",
    "\n",
    "    for i in range(number_students):\n",
    "        name = input()\n",
    "        grade = float(input())\n",
    "        grades.add(grade)\n",
    "        students.append([name, grade])\n",
    "    \n",
    "    second_lowest_grade = sorted(grades)[1]\n",
    "    second_lowest_students = sorted([student[0] for student in students if student[1] == second_lowest_grade])\n",
    "    for student in second_lowest_students:\n",
    "        print(student)\n",
    "\n",
    "if __name__ == '__main__':\n",
    "    main()"
   ]
  },
  {
   "attachments": {},
   "cell_type": "markdown",
   "metadata": {},
   "source": [
    "5- challenges/library-fine/problem"
   ]
  },
  {
   "cell_type": "code",
   "execution_count": null,
   "metadata": {},
   "outputs": [],
   "source": [
    "def libraryFine(d1, m1, y1, d2, m2, y2):\n",
    "    # Write your code here\n",
    "    \n",
    "    if (d1<=d2 and m1<=m2 and  y1<=y2)  or y1 < y2  or (m1 < m2  and y1<=y2):\n",
    "        return 0\n",
    "    \n",
    "    elif d1 > d2    and m1==m2 and y1==y2 :\n",
    "        return 15*(d1-d2)\n",
    "    \n",
    "    elif   m1 > m2 and y1==y2 :\n",
    "        return  500*(m1-m2)   \n",
    "\n",
    "    elif y1>y2 :\n",
    "        return 10000        \n",
    "          "
   ]
  },
  {
   "attachments": {},
   "cell_type": "markdown",
   "metadata": {},
   "source": [
    "6- Modified Kaprekar Numbers"
   ]
  },
  {
   "cell_type": "code",
   "execution_count": null,
   "metadata": {},
   "outputs": [],
   "source": [
    "def kaprekar(n):\n",
    "    d = len(str(n))\n",
    "    n_sqr = str(n*n)\n",
    "    right = int(n_sqr[len(n_sqr)-d:])\n",
    "    left = n_sqr[:len(n_sqr)-d]\n",
    "    if left == '':\n",
    "        left = 0\n",
    "    left = int(left)\n",
    "    #print(\"left:\", left, \"right:\", right)\n",
    "    return left+right == n\n",
    "    \n",
    "p = int(input())\n",
    "q = int(input())\n",
    "a = []\n",
    "for i in range(p, q+1):\n",
    "    if kaprekar(i):\n",
    "        a.append(i)\n",
    "if len(a) == 0:\n",
    "    print(\"INVALID RANGE\")\n",
    "else:\n",
    "    print(' '.join(str(c) for c in a))"
   ]
  },
  {
   "attachments": {},
   "cell_type": "markdown",
   "metadata": {},
   "source": [
    "7- Chocolate Feast"
   ]
  },
  {
   "cell_type": "code",
   "execution_count": null,
   "metadata": {},
   "outputs": [],
   "source": [
    "def chocolates(N, C, M):\n",
    "    \n",
    "    total = int(N/C);\n",
    "    \n",
    "    empty_wrapper = total\n",
    "    \n",
    "    while empty_wrapper >= M:\n",
    "        \n",
    "        temp = int(empty_wrapper/M);\n",
    "        \n",
    "        total = total + temp;\n",
    "        \n",
    "        empty_wrapper = empty_wrapper - (temp*M) + temp;\n",
    "    \n",
    "    return total;\n",
    "\n",
    "\n",
    "T = int(input())\n",
    "\n",
    "result = [];\n",
    "\n",
    "for i in range(T):\n",
    "    \n",
    "    (N, C, M) = map(int, input().split());\n",
    "    \n",
    "    result = result + [chocolates(N,C,M)];\n",
    "\n",
    "\n",
    "print('\\n'.join(map(str, result)))"
   ]
  },
  {
   "attachments": {},
   "cell_type": "markdown",
   "metadata": {},
   "source": [
    "8- B. Borze"
   ]
  },
  {
   "cell_type": "code",
   "execution_count": null,
   "metadata": {},
   "outputs": [],
   "source": [
    "arr1 = str(input())\n",
    "arr2 = []\n",
    "i = 0\n",
    "while i < len(arr1):\n",
    "    if(arr1[i] == '.'):\n",
    "        arr2.append('0')\n",
    "    elif(arr1[i] == '-'and arr1[i+1] == '.'):\n",
    "        arr2.append('1')\n",
    "        i += 1\n",
    "    else:\n",
    "        arr2.append('2')\n",
    "        i += 1\n",
    "    i +=1\n",
    "print(''.join(arr2))"
   ]
  },
  {
   "attachments": {},
   "cell_type": "markdown",
   "metadata": {},
   "source": [
    "9- A. Beautiful Year"
   ]
  },
  {
   "cell_type": "code",
   "execution_count": null,
   "metadata": {},
   "outputs": [],
   "source": [
    "old = int(input()) \n",
    "while True:\n",
    "    old += 1\n",
    "    a = int(old / 1000)\n",
    "    b = int(old / 100 % 10)\n",
    "    c = int(old / 10 % 10)\n",
    "    d = int(old % 10)\n",
    "    if ((a != b) and (a != c) and (a != d) and (b != c) and (b != d) and (c != d)):\n",
    "        break\n",
    "print(old)"
   ]
  },
  {
   "attachments": {},
   "cell_type": "markdown",
   "metadata": {},
   "source": [
    "10- A. Lights Out"
   ]
  },
  {
   "cell_type": "code",
   "execution_count": null,
   "metadata": {},
   "outputs": [],
   "source": [
    "grid = []\n",
    "\n",
    "for i in range(3):\n",
    "    grid.append(list(map(int, input().split())))\n",
    "\n",
    "row, column = 5,5      \n",
    "arr = [[0 for i in range(column)] for j in range(row)]\n",
    "\n",
    "for i in range(1,4):               \n",
    "    for j in range(1,4):\n",
    "        arr[i][j] = grid[i-1][j-1]   \n",
    "\n",
    "\n",
    "for i in range(1,4):                    \n",
    "    for j in range(1,4):                  \n",
    "        if sum([arr[i][j-1], arr[i][j+1], arr[i-1][j], arr[i+1][j]], arr[i][j]) % 2:\n",
    "            print('0', end='')\n",
    "        else:                                \n",
    "            print('1', end='')\n",
    "    print()"
   ]
  }
 ],
 "metadata": {
  "kernelspec": {
   "display_name": "Python 3",
   "language": "python",
   "name": "python3"
  },
  "language_info": {
   "name": "python",
   "version": "3.10.5 (tags/v3.10.5:f377153, Jun  6 2022, 16:14:13) [MSC v.1929 64 bit (AMD64)]"
  },
  "orig_nbformat": 4,
  "vscode": {
   "interpreter": {
    "hash": "f7cb22cba2fc3f9cef1d77ff9f28dbfe3d5dcd58b522c3467d939d18639aeaa6"
   }
  }
 },
 "nbformat": 4,
 "nbformat_minor": 2
}
