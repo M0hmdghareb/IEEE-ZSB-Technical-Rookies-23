{
 "cells": [
  {
   "attachments": {},
   "cell_type": "markdown",
   "metadata": {},
   "source": [
    "1- Find Digits | HackerRank"
   ]
  },
  {
   "cell_type": "code",
   "execution_count": null,
   "metadata": {},
   "outputs": [],
   "source": [
    "def findDigits(n):\n",
    "    # Write your code here\n",
    "    c=0\n",
    "    for  i in str(n):\n",
    "        if int(i)!=0 and n%int(i) == 0:\n",
    "            c += 1 \n",
    "            \n",
    "    return c"
   ]
  },
  {
   "attachments": {},
   "cell_type": "markdown",
   "metadata": {},
   "source": [
    "2-Library Fine | HackerRank"
   ]
  },
  {
   "cell_type": "code",
   "execution_count": null,
   "metadata": {},
   "outputs": [],
   "source": [
    "\n",
    "def libraryFine(d1, m1, y1, d2, m2, y2):\n",
    "    # Write your code here\n",
    "    \n",
    "    if (d1<=d2 and m1<=m2 and  y1<=y2)  or y1 < y2  or (m1 < m2  and y1<=y2):\n",
    "        return 0\n",
    "    \n",
    "    elif d1 > d2    and m1==m2 and y1==y2 :\n",
    "        return 15*(d1-d2)\n",
    "    \n",
    "    elif   m1 > m2 and y1==y2 :\n",
    "        return  500*(m1-m2)   \n",
    "\n",
    "    elif y1>y2 :\n",
    "        return 10000        \n",
    "        \n"
   ]
  },
  {
   "attachments": {},
   "cell_type": "markdown",
   "metadata": {},
   "source": [
    "3-Climbing the Leaderboard | HackerRank"
   ]
  },
  {
   "cell_type": "code",
   "execution_count": null,
   "metadata": {},
   "outputs": [],
   "source": [
    "def climbingLeaderboard(ranked, player):\n",
    "    # get the unique ranks sorted descending\n",
    "    scores = sorted(list(set(ranked)), reverse=True)\n",
    "    player_ranks = []\n",
    "    for score in player:\n",
    "        while scores and score >= scores[-1]:\n",
    "            scores.pop()\n",
    "        player_ranks.append(len(scores) + 1)\n",
    "\n",
    "    return player_ranks "
   ]
  },
  {
   "attachments": {},
   "cell_type": "markdown",
   "metadata": {},
   "source": [
    "4- ACM ICPC Team | HackerRank"
   ]
  },
  {
   "cell_type": "code",
   "execution_count": null,
   "metadata": {},
   "outputs": [],
   "source": [
    "def acmTeam(topic):\n",
    "    # Write your code here\n",
    "    ans= []\n",
    "    for i in range(n):\n",
    "        for j in range(i+1 ,n):\n",
    "            k = 0\n",
    "            for a,b in zip (topic[i] ,topic[j]) :\n",
    "                if a=='1' or b == \"1\" :\n",
    "                    k += 1\n",
    "            ans.append(k)\n",
    "    \n",
    "    return [max(ans), ans.count(max(ans))]        "
   ]
  },
  {
   "attachments": {},
   "cell_type": "markdown",
   "metadata": {},
   "source": [
    "5- HackerRank in a String! | HackerRank"
   ]
  },
  {
   "cell_type": "code",
   "execution_count": null,
   "metadata": {},
   "outputs": [],
   "source": [
    "def hackerrankInString(s):\n",
    "    # Write your code here\n",
    "    s2=\"hakerrank\"\n",
    "    target =len(s2)\n",
    "    i = 0\n",
    "\n",
    "    for j in s:\n",
    "        if j ==s2[i] :\n",
    "            i += 1\n",
    "            if i == target :\n",
    "                return \"YES\"\n",
    "\n",
    "    return \"NO\""
   ]
  },
  {
   "attachments": {},
   "cell_type": "markdown",
   "metadata": {},
   "source": [
    "6- Circular Array Rotation | HackerRank"
   ]
  },
  {
   "cell_type": "code",
   "execution_count": null,
   "metadata": {},
   "outputs": [],
   "source": [
    "def circularArrayRotation(a, k, queries):\n",
    "    #rotation\n",
    "    for _ in range(k):\n",
    "        a.insert(0, a.pop())\n",
    "    #putting answer according to query\n",
    "    ans = []\n",
    "    for i in queries:\n",
    "        ans.append(a[i])    \n",
    "    return ans\n",
    "        "
   ]
  },
  {
   "attachments": {},
   "cell_type": "markdown",
   "metadata": {},
   "source": [
    "7- Beautiful Triplets | HackerRank"
   ]
  },
  {
   "cell_type": "code",
   "execution_count": null,
   "metadata": {},
   "outputs": [],
   "source": [
    "def beautifulTriplets(d, arr):\n",
    "    # Write your code here\n",
    "    triplets = 0\n",
    "    for i in arr:\n",
    "        if i+d in arr and i+d*2 in arr:\n",
    "            triplets += 1\n",
    "    return triplets       "
   ]
  },
  {
   "attachments": {},
   "cell_type": "markdown",
   "metadata": {},
   "source": [
    "8- Binary Search Tree : Insertion | HackerRank\n",
    "\n"
   ]
  },
  {
   "cell_type": "code",
   "execution_count": null,
   "metadata": {},
   "outputs": [],
   "source": [
    "class Node:\n",
    "    def __init__(self, info):\n",
    "        self.info = info  \n",
    "        self.left = None  \n",
    "        self.right = None \n",
    "        self.level = None \n",
    "\n",
    "    def __str__(self):\n",
    "        return str(self.info) \n",
    "\n",
    "def preOrder(root):\n",
    "    if root == None:\n",
    "        return\n",
    "    print (root.info, end=\" \")\n",
    "    preOrder(root.left)\n",
    "    preOrder(root.right)\n",
    "    \n",
    "class BinarySearchTree:\n",
    "    def __init__(self): \n",
    "        self.root = None\n",
    "\n",
    "#Node is defined as\n",
    "#self.left (the left child of the node)\n",
    "#self.right (the right child of the node)\n",
    "#self.info (the value of the node)\n",
    "\n",
    "    def insert(self, val):\n",
    "        if self.root is None:\n",
    "            self.root=Node(val)\n",
    "        else:\n",
    "            current = self.root\n",
    "            while True:\n",
    "                if val < current.info:\n",
    "                    if current.left is None:\n",
    "                        current.left=Node(val)\n",
    "                        break\n",
    "                    else:\n",
    "                        current=current.left\n",
    "                else:\n",
    "                    if current.right is None:\n",
    "                        current.right=Node(val)\n",
    "                        break\n",
    "                    else:\n",
    "                        current=current.right\n",
    "        \n"
   ]
  },
  {
   "attachments": {},
   "cell_type": "markdown",
   "metadata": {},
   "source": [
    "9- Detect Squares - leetcode"
   ]
  },
  {
   "cell_type": "code",
   "execution_count": null,
   "metadata": {},
   "outputs": [],
   "source": [
    "import collections\n",
    "class DetectSquares(object):\n",
    "\n",
    "    def __init__(self):\n",
    "        self.__points = []\n",
    "        self.__point_counts = collections.defaultdict(int)\n",
    "\n",
    "    def add(self, point):\n",
    "        \"\"\"\n",
    "        :type point: List[int]\n",
    "        :rtype: None\n",
    "        \"\"\"\n",
    "        self.__points.append(point)\n",
    "        self.__point_counts[tuple(point)] += 1\n",
    "\n",
    "    def count(self, point):\n",
    "        \"\"\"\n",
    "        :type point: List[int]\n",
    "        :rtype: int\n",
    "        \"\"\"\n",
    "        result = 0\n",
    "        for x, y in self.__points:\n",
    "            if not (point[0] != x and point[1] != y and (abs(point[0]-x) == abs(point[1]-y))):\n",
    "                continue\n",
    "            result += self.__point_counts[(point[0], y)]*self.__point_counts[(x, point[1])]\n",
    "        return result"
   ]
  },
  {
   "attachments": {},
   "cell_type": "markdown",
   "metadata": {},
   "source": [
    "10- Remove Friends | Practice Problems (hackerearth.com)"
   ]
  },
  {
   "cell_type": "code",
   "execution_count": null,
   "metadata": {},
   "outputs": [],
   "source": [
    "for test in range(int(input())):\n",
    "\n",
    "    count, remove = map(int, input().split())\n",
    "    friends = map(int, input().split())\n",
    "    s = []\n",
    "    for i in friends:\n",
    "        while remove and s and s[-1] < i:\n",
    "            s.pop()\n",
    "            remove -= 1\n",
    "\n",
    "        s.append(i)\n",
    "\n",
    "    print(' '.join(map(str, s)))"
   ]
  },
  {
   "attachments": {},
   "cell_type": "markdown",
   "metadata": {},
   "source": [
    "11- Problem - 884A - Codeforces"
   ]
  },
  {
   "cell_type": "code",
   "execution_count": 1,
   "metadata": {},
   "outputs": [
    {
     "name": "stdout",
     "output_type": "stream",
     "text": [
      "2\n",
      "2\n"
     ]
    }
   ],
   "source": [
    "g = list(map(int ,input().strip().split()))\n",
    "n=int(g[0])\n",
    "m=int(g[-1])\n",
    "l = list(map(int ,input().strip().split()))\n",
    "c = 0\n",
    "day = 0\n",
    "\n",
    "for i in range(n):\n",
    "    c += 86400 - l[i]\n",
    "    day += 1\n",
    "    if  c >= m:\n",
    "        print(day)\n",
    "        break       "
   ]
  }
 ],
 "metadata": {
  "kernelspec": {
   "display_name": "Python 3.10.5 64-bit",
   "language": "python",
   "name": "python3"
  },
  "language_info": {
   "codemirror_mode": {
    "name": "ipython",
    "version": 3
   },
   "file_extension": ".py",
   "mimetype": "text/x-python",
   "name": "python",
   "nbconvert_exporter": "python",
   "pygments_lexer": "ipython3",
   "version": "3.10.5"
  },
  "orig_nbformat": 4,
  "vscode": {
   "interpreter": {
    "hash": "f7cb22cba2fc3f9cef1d77ff9f28dbfe3d5dcd58b522c3467d939d18639aeaa6"
   }
  }
 },
 "nbformat": 4,
 "nbformat_minor": 2
}
