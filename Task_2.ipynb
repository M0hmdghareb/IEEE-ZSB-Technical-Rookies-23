{
 "cells": [
  {
   "cell_type": "markdown",
   "metadata": {},
   "source": [
    "1-Write a Python program that randomly generates a 3-digit number. Ask the user to guess a 3-digit number. For every digit that the user guessed correctly in the correct place, they have a \"hit\". For every digit the user guessed correctly in the wrong place is a \"miss\". Every time the user makes a guess, tell them how many hits and misses they have. Once the user guesses the correct number, the game is over. print the number of attempts they needed to guess the number."
   ]
  },
  {
   "cell_type": "code",
   "execution_count": 92,
   "metadata": {},
   "outputs": [
    {
     "name": "stdout",
     "output_type": "stream",
     "text": [
      "405\n",
      "3 hit 0 miss\n",
      "you have make 2 trail to geuss the number\n"
     ]
    }
   ],
   "source": [
    "def identical(n1,n2) :\n",
    "    hit = 0\n",
    "    miss = 0\n",
    "    for i in range(3):\n",
    "        if n1[i]== n2[i] :\n",
    "            hit += 1\n",
    "        elif n2[i] in n1 :\n",
    "            miss+= 1    \n",
    "    return print(hit ,\" hit\"  ,  \" \" ,miss ,\" miss\" ,sep=\"\") \n",
    "\n",
    "from random import randint\n",
    "# Create random number with three digits (d=3):\n",
    "n1=str(randint(100, 999))\n",
    "print(n1) # i make this to help guess number and stop the loop\n",
    "n2= str(input())\n",
    "\n",
    "count=1\n",
    "while (n2!=n1):\n",
    "    n2= str(input())\n",
    "    identical(n1,n2)\n",
    "    count+=1\n",
    "print(\"you have make \" , count,\" attempts to geuss the number\" ,sep=\"\")"
   ]
  },
  {
   "cell_type": "markdown",
   "metadata": {},
   "source": [
    "2- Write a program that asks the user for a string and tests whether it's a palindrome. If it's a palindrome print \"yes\", if not, print \"no\""
   ]
  },
  {
   "cell_type": "code",
   "execution_count": 70,
   "metadata": {},
   "outputs": [
    {
     "name": "stdout",
     "output_type": "stream",
     "text": [
      "no\n"
     ]
    }
   ],
   "source": [
    "s=str(input())\n",
    "c=0\n",
    "for i in range(len(s)) :\n",
    "    if s[i] == s[-(i+1)]:\n",
    "        c+=1\n",
    "if c ==len(s):\n",
    "    print(\"yes\")       \n",
    "else :\n",
    "    print(\"no\")           \n"
   ]
  },
  {
   "cell_type": "markdown",
   "metadata": {},
   "source": [
    "3- Given String S. Determine if there is a Subsequence in S that is equal to \"hello\" or not."
   ]
  },
  {
   "cell_type": "code",
   "execution_count": 62,
   "metadata": {},
   "outputs": [
    {
     "name": "stdout",
     "output_type": "stream",
     "text": [
      "Yes\n"
     ]
    }
   ],
   "source": [
    "def isSubSequence(s1, s2, m, n):\n",
    "\t# Base Cases\n",
    "\tif m == 0:\n",
    "\t\treturn True\n",
    "\tif n == 0:\n",
    "\t\treturn False\n",
    "\n",
    "\t# If last characters of two strings are matching\n",
    "\tif s1[m-1] == s2[n-1]:\n",
    "\t\treturn isSubSequence(s1, s2, m-1, n-1)\n",
    "\n",
    "\t# If last characters are not matching\n",
    "\treturn isSubSequence(s1, s2, m, n-1)\n",
    "\n",
    "\n",
    "s1 = \"hello\"\n",
    "s2 = str(input().split())\n",
    "\n",
    "if isSubSequence(s1, s2, len(s1), len(s2)):\n",
    "\tprint (\"Yes\")\n",
    "else:\n",
    "\tprint (\"No\")\n",
    "\n",
    "\n"
   ]
  },
  {
   "cell_type": "code",
   "execution_count": 63,
   "metadata": {},
   "outputs": [
    {
     "name": "stdout",
     "output_type": "stream",
     "text": [
      "Yes\n"
     ]
    }
   ],
   "source": [
    "def issubsequence(s1, s2):\n",
    "  \n",
    "    n,m = len(s1),len(s2)\n",
    "    i,j = 0,0\n",
    "    while (i < n and j < m):\n",
    "        if (s1[i] == s2[j]):\n",
    "            i += 1\n",
    "        j += 1\n",
    "\n",
    "    return i == n\n",
    "\n",
    "s1 = \"hello\"\n",
    "s2 = str(input().split())\n",
    "\n",
    "if isSubSequence(s1, s2, len(s1), len(s2)):\n",
    "\tprint (\"Yes\")\n",
    "else:\n",
    "\tprint (\"No\")"
   ]
  },
  {
   "cell_type": "markdown",
   "metadata": {},
   "source": [
    "4- Write a program that takes a sorted list as an input and removes the duplicates.\n"
   ]
  },
  {
   "cell_type": "code",
   "execution_count": 51,
   "metadata": {},
   "outputs": [
    {
     "name": "stdout",
     "output_type": "stream",
     "text": [
      "1 2 3 4 5 6 7 8 9\n"
     ]
    }
   ],
   "source": [
    "my_list =[map(int ,input().split())]\n",
    "for i in range(len(my_list)):\n",
    "    print(*set(my_list[i]))"
   ]
  },
  {
   "cell_type": "markdown",
   "metadata": {},
   "source": [
    "5- Implement insertion sort, take it a step further and explain briefly the sorting mechanism, mention time and space complexity, and whether it's a stable sorting algorithm or not. (surely you must define what a stable sorting algorithm is first :p )"
   ]
  },
  {
   "cell_type": "code",
   "execution_count": 96,
   "metadata": {},
   "outputs": [
    {
     "name": "stdout",
     "output_type": "stream",
     "text": [
      "1\n",
      "5\n",
      "5\n",
      "6\n",
      "7\n",
      "11\n",
      "12\n",
      "13\n"
     ]
    }
   ],
   "source": [
    "\"\"\"\n",
    "A sorting algorithm is said to be stable if two objects with equal keys appear in the same order in \n",
    "sorted output as they appear in the input data set\n",
    "\n",
    "insertion sort is a stable sorting algorithm because it satisfies the condition previously stated\n",
    "\n",
    "To sort an array of size N in ascending order: \n",
    "\n",
    "1-Iterate from arr[1] to arr[N] over the array. \n",
    "2-Compare the current element (key) to its predecessor. \n",
    "3-If the key element is smaller than its predecessor, compare it to the elements before.\n",
    "Move the greater elements one position up to make space for the swapped element.\n",
    "\n",
    "Time Complexity: O(N^2) \n",
    "Space Complexity: O(1)\n",
    "\n",
    "\"\"\"\n",
    "\n",
    "def insertionSort(arr):\n",
    "    for i in range(1, len(arr)):\n",
    " \n",
    "        key = arr[i]\n",
    "        j = i-1\n",
    "        while j >= 0 and key < arr[j] :\n",
    "                arr[j + 1] = arr[j]\n",
    "                j -= 1\n",
    "        arr[j + 1] = key\n",
    "\n",
    "# Driver code to test above\n",
    "arr = [7, 5, 1, 12, 11, 13, 5, 6]\n",
    "insertionSort(arr)\n",
    "for i in range(len(arr)):\n",
    "    print (arr[i])"
   ]
  },
  {
   "cell_type": "code",
   "execution_count": null,
   "metadata": {},
   "outputs": [],
   "source": []
  }
 ],
 "metadata": {
  "kernelspec": {
   "display_name": "Python 3.9.12 ('base')",
   "language": "python",
   "name": "python3"
  },
  "language_info": {
   "codemirror_mode": {
    "name": "ipython",
    "version": 3
   },
   "file_extension": ".py",
   "mimetype": "text/x-python",
   "name": "python",
   "nbconvert_exporter": "python",
   "pygments_lexer": "ipython3",
   "version": "3.9.12"
  },
  "orig_nbformat": 4,
  "vscode": {
   "interpreter": {
    "hash": "b266febccdbffe94f8259b69fdbf83b7a5dac84892382b2e19a6c7f9decedf65"
   }
  }
 },
 "nbformat": 4,
 "nbformat_minor": 2
}
